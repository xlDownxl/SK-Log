{
 "cells": [
  {
   "cell_type": "code",
   "execution_count": 7,
   "metadata": {},
   "outputs": [],
   "source": [
    "import boto3\n",
    "from PIL import Image\n",
    "import requests\n",
    "from io import BytesIO\n",
    "s3 = boto3.resource('s3')\n",
    "client = boto3.client('textract')"
   ]
  },
  {
   "cell_type": "code",
   "execution_count": 17,
   "metadata": {},
   "outputs": [],
   "source": [
    "def get_response(documentName):\n",
    "    s3BucketName = 'textract2123'\n",
    "\n",
    "    textract = boto3.client('textract')\n",
    "    response = textract.detect_document_text(\n",
    "        Document={\n",
    "            'S3Object': {\n",
    "                'Bucket': s3BucketName,\n",
    "                'Name': documentName\n",
    "            }\n",
    "        })\n",
    "    return response"
   ]
  },
  {
   "cell_type": "code",
   "execution_count": 18,
   "metadata": {
    "tags": [
     "outputPrepend"
    ]
   },
   "outputs": [],
   "source": [
    "# Print detected text\n",
    "def evaluate_response(response):\n",
    "    counter=0\n",
    "    for item in response[\"Blocks\"]:\n",
    "        if item[\"BlockType\"] == \"LINE\":\n",
    "            counter+=1\n",
    "            if counter==2:\n",
    "                line=item[\"Text\"]\n",
    "                index_doublepoint=line.find(\":\")\n",
    "                index_komma=line.find(\",\")\n",
    "                pair=line[index_doublepoint+1:index_komma]\n",
    "                return pair"
   ]
  },
  {
   "cell_type": "code",
   "execution_count": 21,
   "metadata": {},
   "outputs": [],
   "source": [
    "def pipeline(link):\n",
    "    img = requests.get(link).content\n",
    "    #img_show = Image.open(BytesIO(response.content))\n",
    "    img_name=link.split(\"/\")[-2]+\".png\"\n",
    "    s3.Bucket('textract2123').put_object(Key=img_name, Body=img)\n",
    "    response=get_response(img_name)\n",
    "    pair=evaluate_response(response)\n",
    "    return pair"
   ]
  },
  {
   "cell_type": "code",
   "execution_count": 22,
   "metadata": {},
   "outputs": [
    {
     "output_type": "execute_result",
     "data": {
      "text/plain": "'CADJPY'"
     },
     "metadata": {},
     "execution_count": 22
    }
   ],
   "source": [
    "pipeline(\"https://www.tradingview.com/x/37K2HpUZ/\")"
   ]
  }
 ],
 "metadata": {
  "language_info": {
   "codemirror_mode": {
    "name": "ipython",
    "version": 3
   },
   "file_extension": ".py",
   "mimetype": "text/x-python",
   "name": "python",
   "nbconvert_exporter": "python",
   "pygments_lexer": "ipython3",
   "version": "3.6.3-final"
  },
  "orig_nbformat": 2,
  "kernelspec": {
   "name": "python3",
   "display_name": "Python 3"
  }
 },
 "nbformat": 4,
 "nbformat_minor": 2
}